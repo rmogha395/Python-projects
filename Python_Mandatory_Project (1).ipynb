{
  "cells": [
    {
      "cell_type": "code",
      "execution_count": null,
      "id": "d5ae0073",
      "metadata": {
        "id": "d5ae0073"
      },
      "outputs": [],
      "source": [
        "#importing the libraries\n",
        "import numpy as np\n",
        "import pandas as pd\n",
        "import matplotlib.pyplot as plt\n",
        "import seaborn as sns"
      ]
    },
    {
      "cell_type": "code",
      "execution_count": null,
      "id": "bfa76e74",
      "metadata": {
        "id": "bfa76e74",
        "outputId": "34b1b2f5-6a63-4ac5-cfb3-7e8391a29a7c"
      },
      "outputs": [
        {
          "data": {
            "text/html": [
              "<div>\n",
              "<style scoped>\n",
              "    .dataframe tbody tr th:only-of-type {\n",
              "        vertical-align: middle;\n",
              "    }\n",
              "\n",
              "    .dataframe tbody tr th {\n",
              "        vertical-align: top;\n",
              "    }\n",
              "\n",
              "    .dataframe thead th {\n",
              "        text-align: right;\n",
              "    }\n",
              "</style>\n",
              "<table border=\"1\" class=\"dataframe\">\n",
              "  <thead>\n",
              "    <tr style=\"text-align: right;\">\n",
              "      <th></th>\n",
              "      <th>longitude</th>\n",
              "      <th>latitude</th>\n",
              "      <th>housing_median_age</th>\n",
              "      <th>total_rooms</th>\n",
              "      <th>total_bedrooms</th>\n",
              "      <th>population</th>\n",
              "      <th>households</th>\n",
              "      <th>median_income</th>\n",
              "      <th>median_house_value</th>\n",
              "      <th>ocean_proximity</th>\n",
              "    </tr>\n",
              "  </thead>\n",
              "  <tbody>\n",
              "    <tr>\n",
              "      <th>0</th>\n",
              "      <td>-122.23</td>\n",
              "      <td>37.88</td>\n",
              "      <td>41</td>\n",
              "      <td>880</td>\n",
              "      <td>129.0</td>\n",
              "      <td>322</td>\n",
              "      <td>126</td>\n",
              "      <td>8.3252</td>\n",
              "      <td>452600</td>\n",
              "      <td>NEAR BAY</td>\n",
              "    </tr>\n",
              "    <tr>\n",
              "      <th>1</th>\n",
              "      <td>-122.22</td>\n",
              "      <td>37.86</td>\n",
              "      <td>21</td>\n",
              "      <td>7099</td>\n",
              "      <td>1106.0</td>\n",
              "      <td>2401</td>\n",
              "      <td>1138</td>\n",
              "      <td>8.3014</td>\n",
              "      <td>358500</td>\n",
              "      <td>NEAR BAY</td>\n",
              "    </tr>\n",
              "    <tr>\n",
              "      <th>2</th>\n",
              "      <td>-122.24</td>\n",
              "      <td>37.85</td>\n",
              "      <td>52</td>\n",
              "      <td>1467</td>\n",
              "      <td>190.0</td>\n",
              "      <td>496</td>\n",
              "      <td>177</td>\n",
              "      <td>7.2574</td>\n",
              "      <td>352100</td>\n",
              "      <td>NEAR BAY</td>\n",
              "    </tr>\n",
              "    <tr>\n",
              "      <th>3</th>\n",
              "      <td>-122.25</td>\n",
              "      <td>37.85</td>\n",
              "      <td>52</td>\n",
              "      <td>1274</td>\n",
              "      <td>235.0</td>\n",
              "      <td>558</td>\n",
              "      <td>219</td>\n",
              "      <td>5.6431</td>\n",
              "      <td>341300</td>\n",
              "      <td>NEAR BAY</td>\n",
              "    </tr>\n",
              "    <tr>\n",
              "      <th>4</th>\n",
              "      <td>-122.25</td>\n",
              "      <td>37.85</td>\n",
              "      <td>52</td>\n",
              "      <td>1627</td>\n",
              "      <td>280.0</td>\n",
              "      <td>565</td>\n",
              "      <td>259</td>\n",
              "      <td>3.8462</td>\n",
              "      <td>342200</td>\n",
              "      <td>NEAR BAY</td>\n",
              "    </tr>\n",
              "  </tbody>\n",
              "</table>\n",
              "</div>"
            ],
            "text/plain": [
              "   longitude  latitude  housing_median_age  total_rooms  total_bedrooms  \\\n",
              "0    -122.23     37.88                  41          880           129.0   \n",
              "1    -122.22     37.86                  21         7099          1106.0   \n",
              "2    -122.24     37.85                  52         1467           190.0   \n",
              "3    -122.25     37.85                  52         1274           235.0   \n",
              "4    -122.25     37.85                  52         1627           280.0   \n",
              "\n",
              "   population  households  median_income  median_house_value ocean_proximity  \n",
              "0         322         126         8.3252              452600        NEAR BAY  \n",
              "1        2401        1138         8.3014              358500        NEAR BAY  \n",
              "2         496         177         7.2574              352100        NEAR BAY  \n",
              "3         558         219         5.6431              341300        NEAR BAY  \n",
              "4         565         259         3.8462              342200        NEAR BAY  "
            ]
          },
          "execution_count": 2,
          "metadata": {},
          "output_type": "execute_result"
        }
      ],
      "source": [
        "#reading the dataset\n",
        "data=pd.read_excel('Dataset.xlsx')\n",
        "data.head()"
      ]
    },
    {
      "cell_type": "code",
      "execution_count": null,
      "id": "5cc08065",
      "metadata": {
        "id": "5cc08065",
        "outputId": "91731c1c-54f4-460d-acb4-ac8af0dc6ebb"
      },
      "outputs": [
        {
          "data": {
            "text/html": [
              "<div>\n",
              "<style scoped>\n",
              "    .dataframe tbody tr th:only-of-type {\n",
              "        vertical-align: middle;\n",
              "    }\n",
              "\n",
              "    .dataframe tbody tr th {\n",
              "        vertical-align: top;\n",
              "    }\n",
              "\n",
              "    .dataframe thead th {\n",
              "        text-align: right;\n",
              "    }\n",
              "</style>\n",
              "<table border=\"1\" class=\"dataframe\">\n",
              "  <thead>\n",
              "    <tr style=\"text-align: right;\">\n",
              "      <th></th>\n",
              "      <th>longitude</th>\n",
              "      <th>latitude</th>\n",
              "      <th>housing_median_age</th>\n",
              "      <th>total_rooms</th>\n",
              "      <th>total_bedrooms</th>\n",
              "      <th>population</th>\n",
              "      <th>households</th>\n",
              "      <th>median_income</th>\n",
              "      <th>median_house_value</th>\n",
              "      <th>ocean_proximity</th>\n",
              "    </tr>\n",
              "  </thead>\n",
              "  <tbody>\n",
              "    <tr>\n",
              "      <th>20635</th>\n",
              "      <td>-121.09</td>\n",
              "      <td>39.48</td>\n",
              "      <td>25</td>\n",
              "      <td>1665</td>\n",
              "      <td>374.0</td>\n",
              "      <td>845</td>\n",
              "      <td>330</td>\n",
              "      <td>1.5603</td>\n",
              "      <td>78100</td>\n",
              "      <td>INLAND</td>\n",
              "    </tr>\n",
              "    <tr>\n",
              "      <th>20636</th>\n",
              "      <td>-121.21</td>\n",
              "      <td>39.49</td>\n",
              "      <td>18</td>\n",
              "      <td>697</td>\n",
              "      <td>150.0</td>\n",
              "      <td>356</td>\n",
              "      <td>114</td>\n",
              "      <td>2.5568</td>\n",
              "      <td>77100</td>\n",
              "      <td>INLAND</td>\n",
              "    </tr>\n",
              "    <tr>\n",
              "      <th>20637</th>\n",
              "      <td>-121.22</td>\n",
              "      <td>39.43</td>\n",
              "      <td>17</td>\n",
              "      <td>2254</td>\n",
              "      <td>485.0</td>\n",
              "      <td>1007</td>\n",
              "      <td>433</td>\n",
              "      <td>1.7000</td>\n",
              "      <td>92300</td>\n",
              "      <td>INLAND</td>\n",
              "    </tr>\n",
              "    <tr>\n",
              "      <th>20638</th>\n",
              "      <td>-121.32</td>\n",
              "      <td>39.43</td>\n",
              "      <td>18</td>\n",
              "      <td>1860</td>\n",
              "      <td>409.0</td>\n",
              "      <td>741</td>\n",
              "      <td>349</td>\n",
              "      <td>1.8672</td>\n",
              "      <td>84700</td>\n",
              "      <td>INLAND</td>\n",
              "    </tr>\n",
              "    <tr>\n",
              "      <th>20639</th>\n",
              "      <td>-121.24</td>\n",
              "      <td>39.37</td>\n",
              "      <td>16</td>\n",
              "      <td>2785</td>\n",
              "      <td>616.0</td>\n",
              "      <td>1387</td>\n",
              "      <td>530</td>\n",
              "      <td>2.3886</td>\n",
              "      <td>89400</td>\n",
              "      <td>INLAND</td>\n",
              "    </tr>\n",
              "  </tbody>\n",
              "</table>\n",
              "</div>"
            ],
            "text/plain": [
              "       longitude  latitude  housing_median_age  total_rooms  total_bedrooms  \\\n",
              "20635    -121.09     39.48                  25         1665           374.0   \n",
              "20636    -121.21     39.49                  18          697           150.0   \n",
              "20637    -121.22     39.43                  17         2254           485.0   \n",
              "20638    -121.32     39.43                  18         1860           409.0   \n",
              "20639    -121.24     39.37                  16         2785           616.0   \n",
              "\n",
              "       population  households  median_income  median_house_value  \\\n",
              "20635         845         330         1.5603               78100   \n",
              "20636         356         114         2.5568               77100   \n",
              "20637        1007         433         1.7000               92300   \n",
              "20638         741         349         1.8672               84700   \n",
              "20639        1387         530         2.3886               89400   \n",
              "\n",
              "      ocean_proximity  \n",
              "20635          INLAND  \n",
              "20636          INLAND  \n",
              "20637          INLAND  \n",
              "20638          INLAND  \n",
              "20639          INLAND  "
            ]
          },
          "execution_count": 3,
          "metadata": {},
          "output_type": "execute_result"
        }
      ],
      "source": [
        "data.tail()"
      ]
    },
    {
      "cell_type": "code",
      "execution_count": null,
      "id": "5af78e69",
      "metadata": {
        "id": "5af78e69"
      },
      "outputs": [],
      "source": [
        "#Project Introduction: the dataset has information about the housing sector of California (western coast). We will analyse how \n",
        "#different features affects each other."
      ]
    },
    {
      "cell_type": "code",
      "execution_count": null,
      "id": "da1f9fb1",
      "metadata": {
        "id": "da1f9fb1",
        "outputId": "27aa9848-b97a-48fa-9a1b-70da1989a315"
      },
      "outputs": [
        {
          "name": "stdout",
          "output_type": "stream",
          "text": [
            "<class 'pandas.core.frame.DataFrame'>\n",
            "RangeIndex: 20640 entries, 0 to 20639\n",
            "Data columns (total 10 columns):\n",
            " #   Column              Non-Null Count  Dtype  \n",
            "---  ------              --------------  -----  \n",
            " 0   longitude           20640 non-null  float64\n",
            " 1   latitude            20640 non-null  float64\n",
            " 2   housing_median_age  20640 non-null  int64  \n",
            " 3   total_rooms         20640 non-null  int64  \n",
            " 4   total_bedrooms      20433 non-null  float64\n",
            " 5   population          20640 non-null  int64  \n",
            " 6   households          20640 non-null  int64  \n",
            " 7   median_income       20640 non-null  float64\n",
            " 8   median_house_value  20640 non-null  int64  \n",
            " 9   ocean_proximity     20640 non-null  object \n",
            "dtypes: float64(4), int64(5), object(1)\n",
            "memory usage: 1.6+ MB\n"
          ]
        }
      ],
      "source": [
        "#checking datatypes\n",
        "#Continuous numerical data columns: [longitude,latitude, housing_median_age, median_income, median_house_value\n",
        "#Dicrete numerical data columns:[total_rooms, population, households]\n",
        "#Ordinal categorical data columns:[ocean_proximity]\n",
        "#Nominal categorical data columns:[None]\n",
        "data.info()"
      ]
    },
    {
      "cell_type": "code",
      "execution_count": null,
      "id": "e2594c6c",
      "metadata": {
        "id": "e2594c6c",
        "outputId": "ffc72dcd-c85b-40ee-b203-6191e8735478"
      },
      "outputs": [
        {
          "data": {
            "text/plain": [
              "(20640, 11)"
            ]
          },
          "execution_count": 28,
          "metadata": {},
          "output_type": "execute_result"
        }
      ],
      "source": [
        "#checking shape to get total no of rows and columns\n",
        "data.shape"
      ]
    },
    {
      "cell_type": "code",
      "execution_count": null,
      "id": "b69185c0",
      "metadata": {
        "id": "b69185c0",
        "outputId": "e37b1d6d-c0d8-4f61-97b8-551616e5f529"
      },
      "outputs": [
        {
          "data": {
            "text/plain": [
              "0"
            ]
          },
          "execution_count": 7,
          "metadata": {},
          "output_type": "execute_result"
        }
      ],
      "source": [
        "#checking duplicates\n",
        "data.duplicated().sum()"
      ]
    },
    {
      "cell_type": "code",
      "execution_count": null,
      "id": "238e350f",
      "metadata": {
        "id": "238e350f",
        "outputId": "2a8c4657-191c-4cda-ee91-815b9b6ba453"
      },
      "outputs": [
        {
          "data": {
            "text/plain": [
              "3.8706710029070246"
            ]
          },
          "execution_count": 8,
          "metadata": {},
          "output_type": "execute_result"
        }
      ],
      "source": [
        "#ques1:#average median income \n",
        "data['median_income'].mean()"
      ]
    },
    {
      "cell_type": "code",
      "execution_count": null,
      "id": "20b2a6aa",
      "metadata": {
        "id": "20b2a6aa",
        "outputId": "23d720f7-6f32-4d3d-9c47-7666a19b90f3"
      },
      "outputs": [
        {
          "data": {
            "image/png": "[encoded data removed]",
            "text/plain": [
              "<Figure size 640x480 with 1 Axes>"
            ]
          },
          "metadata": {},
          "output_type": "display_data"
        }
      ],
      "source": [
        "#ques1:#appropriate plot to see distribution of data of median income\n",
        "#plt.hist(data['median_income'])\n",
        "#plt.title('Data Distribution of median_income of Households' )\n",
        "#plt.ylabel('Income in US Dollars')\n",
        "#plt.grid()\n",
        "#obersevation: there is high income disparity. Income of some households is more than US $7000 and some households \n",
        "#earn less than US $1000. Median income is around US $4000.\n",
        "#Data is slightly positively skewed as median is closer to lower whisker.\n",
        "plt.boxplot(data['median_income'])\n",
        "plt.title('Data Distribution of median_income of Households' )\n",
        "plt.show()\n"
      ]
    },
    {
      "cell_type": "code",
      "execution_count": null,
      "id": "8933104a",
      "metadata": {
        "id": "8933104a",
        "outputId": "a39d717d-b789-419d-b3a2-3dfe303b24f5"
      },
      "outputs": [
        {
          "data": {
            "image/png": "[encoded data removed]",
            "text/plain": [
              "<Figure size 640x480 with 1 Axes>"
            ]
          },
          "metadata": {},
          "output_type": "display_data"
        }
      ],
      "source": [
        "#ques2:appropriate plot to see the distribution of housing_median_age and explain your observations.\n",
        "#plt.hist(data['housing_median_age'])\n",
        "#plt.title('Data distribution of housing_median_age')\n",
        "#plt.xlabel('housing_median_age in Years')\n",
        "#plt.show()\n",
        "plt.boxplot(data['housing_median_age'])\n",
        "plt.title('Data distribution of housing_median_age')\n",
        "plt.grid()\n",
        "plt.show()\n",
        "#observation: the housing median age is near to 30. the data is slightly negatively skewed. Min value is close 0 and \n",
        "#max value is around 55."
      ]
    },
    {
      "cell_type": "code",
      "execution_count": null,
      "id": "80d8525e",
      "metadata": {
        "id": "80d8525e",
        "outputId": "87cd257f-d516-421b-e747-4e0165b51a47"
      },
      "outputs": [
        {
          "data": {
            "text/plain": [
              "28.639486434108527"
            ]
          },
          "execution_count": 11,
          "metadata": {},
          "output_type": "execute_result"
        }
      ],
      "source": [
        "data['housing_median_age'].mean()"
      ]
    },
    {
      "cell_type": "code",
      "execution_count": null,
      "id": "143751ca",
      "metadata": {
        "id": "143751ca",
        "outputId": "5fc45a1a-0a86-4c33-c37f-0c6cb7f33ea2"
      },
      "outputs": [
        {
          "data": {
            "text/plain": [
              "Text(0.5, 1.0, 'Relationship between median_income and median_house_value')"
            ]
          },
          "execution_count": 12,
          "metadata": {},
          "output_type": "execute_result"
        },
        {
          "data": {
            "image/png": "[encoded data removed]",
            "text/plain": [
              "<Figure size 640x480 with 1 Axes>"
            ]
          },
          "metadata": {},
          "output_type": "display_data"
        }
      ],
      "source": [
        "#ques3:with help of visualization show how median income and median house values are related\n",
        "plt.scatter(data['median_income'],data['median_house_value'])\n",
        "plt.xlabel('median_income in US  Thousand Dollars')\n",
        "plt.ylabel('median_house_value in US Dollars')\n",
        "plt.title('Relationship between median_income and median_house_value' )\n",
        "#observation: there is a linear relationship between median_income and median_house_value. As the income of people rises so the \n",
        "#living standard. But there are few outliers as well."
      ]
    },
    {
      "cell_type": "code",
      "execution_count": null,
      "id": "3d7db414",
      "metadata": {
        "id": "3d7db414",
        "outputId": "e4ad5f30-5949-449f-fde8-ccb40a0bb624"
      },
      "outputs": [
        {
          "data": {
            "text/plain": [
              "longitude               0\n",
              "latitude                0\n",
              "housing_median_age      0\n",
              "total_rooms             0\n",
              "total_bedrooms        207\n",
              "population              0\n",
              "households              0\n",
              "median_income           0\n",
              "median_house_value      0\n",
              "ocean_proximity         0\n",
              "dtype: int64"
            ]
          },
          "execution_count": 13,
          "metadata": {},
          "output_type": "execute_result"
        }
      ],
      "source": [
        "#ques4: create a dataset by deleting the corresponding examples from the dataset for which total_bedrooms are not available\n",
        "#checking for null values. total_bedrooms column has some null values.\n",
        "data.isnull().sum()"
      ]
    },
    {
      "cell_type": "code",
      "execution_count": null,
      "id": "48b146a8",
      "metadata": {
        "id": "48b146a8",
        "outputId": "9820a5fb-b49c-47d5-ea7f-babe642aaf8d"
      },
      "outputs": [
        {
          "data": {
            "text/plain": [
              "longitude             0\n",
              "latitude              0\n",
              "housing_median_age    0\n",
              "total_rooms           0\n",
              "total_bedrooms        0\n",
              "population            0\n",
              "households            0\n",
              "median_income         0\n",
              "median_house_value    0\n",
              "ocean_proximity       0\n",
              "dtype: int64"
            ]
          },
          "execution_count": 14,
          "metadata": {},
          "output_type": "execute_result"
        }
      ],
      "source": [
        "#Capturing data in new variable after removing null values\n",
        "no_dups_data=data.dropna()\n",
        "no_dups_data.isnull().sum()"
      ]
    },
    {
      "cell_type": "code",
      "execution_count": null,
      "id": "35fe23fe",
      "metadata": {
        "id": "35fe23fe",
        "outputId": "7302125d-6ed7-420a-9ba7-e2709793c2c2"
      },
      "outputs": [
        {
          "data": {
            "text/plain": [
              "longitude             0\n",
              "latitude              0\n",
              "housing_median_age    0\n",
              "total_rooms           0\n",
              "total_bedrooms        0\n",
              "population            0\n",
              "households            0\n",
              "median_income         0\n",
              "median_house_value    0\n",
              "ocean_proximity       0\n",
              "dtype: int64"
            ]
          },
          "execution_count": 15,
          "metadata": {},
          "output_type": "execute_result"
        }
      ],
      "source": [
        "#ques5: creata a dataset by filling the missing values with the mean value of the total_bedrooms in the original data\n",
        "data.fillna(data['total_bedrooms'].mean(), inplace=True)\n",
        "data.isnull().sum()"
      ]
    },
    {
      "cell_type": "code",
      "execution_count": null,
      "id": "b2796db6",
      "metadata": {
        "id": "b2796db6",
        "outputId": "49a2ea20-935b-4951-aaff-fa4cf30968d1"
      },
      "outputs": [
        {
          "name": "stdout",
          "output_type": "stream",
          "text": [
            "Enter the number of elements you want put: 3\n",
            "Enter the values: 45\n",
            "Enter the values: 45\n",
            "Enter the values: 45\n"
          ]
        },
        {
          "data": {
            "text/plain": [
              "45"
            ]
          },
          "execution_count": 27,
          "metadata": {},
          "output_type": "execute_result"
        }
      ],
      "source": [
        "#ques6: Write a programming construct (create a user defined function) \n",
        "#to calculate the median value of the data set wherever required.\n",
        "def get_median(l):\n",
        "    l.sort()\n",
        "    if len(l)%2 !=0:\n",
        "        median=l[int(len(l)/2)]\n",
        "    else:\n",
        "        median=l[(int(len(l)/2)-1)]+l[int(len(l)/2)]\n",
        "        median=median/2\n",
        "    return median\n",
        "\n",
        "l=[]\n",
        "size=int(input('Enter the number of elements you want put: ')) \n",
        "for i in range(size):\n",
        "                  val=int(input('Enter the values: '))\n",
        "                  l.append(val)\n",
        "                \n",
        "get_median(l)"
      ]
    },
    {
      "cell_type": "code",
      "execution_count": null,
      "id": "f24b0d36",
      "metadata": {
        "id": "f24b0d36",
        "outputId": "30409c4f-ac71-41be-b816-66c9038186f5"
      },
      "outputs": [
        {
          "data": {
            "text/plain": [
              "60.0"
            ]
          },
          "execution_count": 26,
          "metadata": {},
          "output_type": "execute_result"
        }
      ],
      "source": [
        "list=[99,45,55,60,70]\n",
        "b=np.array(list)\n",
        "b\n",
        "np.median(b)"
      ]
    },
    {
      "cell_type": "code",
      "execution_count": null,
      "id": "417b9b1a",
      "metadata": {
        "id": "417b9b1a",
        "outputId": "7e24bf6c-e69a-482a-9e6c-2cc4f117d56c"
      },
      "outputs": [
        {
          "data": {
            "image/png": "[encoded data removed]",
            "text/plain": [
              "<Figure size 640x480 with 1 Axes>"
            ]
          },
          "metadata": {},
          "output_type": "display_data"
        }
      ],
      "source": [
        "#ques7: Plot latitude versus longitude and explain your observations\n",
        "plt.scatter(data['longitude'], data['latitude'])\n",
        "plt.title('California: longitude vs latitude')\n",
        "plt.xlabel('longitude')\n",
        "plt.ylabel('latitude')\n",
        "plt.show()\n",
        "#observation: People tend to prefer to live near ocean proximity. This also gives a hint about the income levels of people as \n",
        "#houses near ocean proximity are expensive. Population density seems high. "
      ]
    },
    {
      "cell_type": "code",
      "execution_count": null,
      "id": "a57dbee8",
      "metadata": {
        "id": "a57dbee8",
        "outputId": "c9ef14af-ffab-4614-800c-4c8e22ce0856"
      },
      "outputs": [
        {
          "data": {
            "text/html": [
              "<div>\n",
              "<style scoped>\n",
              "    .dataframe tbody tr th:only-of-type {\n",
              "        vertical-align: middle;\n",
              "    }\n",
              "\n",
              "    .dataframe tbody tr th {\n",
              "        vertical-align: top;\n",
              "    }\n",
              "\n",
              "    .dataframe thead th {\n",
              "        text-align: right;\n",
              "    }\n",
              "</style>\n",
              "<table border=\"1\" class=\"dataframe\">\n",
              "  <thead>\n",
              "    <tr style=\"text-align: right;\">\n",
              "      <th></th>\n",
              "      <th>longitude</th>\n",
              "      <th>latitude</th>\n",
              "      <th>housing_median_age</th>\n",
              "      <th>total_rooms</th>\n",
              "      <th>total_bedrooms</th>\n",
              "      <th>population</th>\n",
              "      <th>households</th>\n",
              "      <th>median_income</th>\n",
              "      <th>median_house_value</th>\n",
              "      <th>ocean_proximity</th>\n",
              "    </tr>\n",
              "  </thead>\n",
              "  <tbody>\n",
              "    <tr>\n",
              "      <th>1850</th>\n",
              "      <td>-124.17</td>\n",
              "      <td>41.80</td>\n",
              "      <td>16</td>\n",
              "      <td>2739</td>\n",
              "      <td>480.0</td>\n",
              "      <td>1259</td>\n",
              "      <td>436</td>\n",
              "      <td>3.7557</td>\n",
              "      <td>109400</td>\n",
              "      <td>NEAR OCEAN</td>\n",
              "    </tr>\n",
              "    <tr>\n",
              "      <th>1851</th>\n",
              "      <td>-124.30</td>\n",
              "      <td>41.80</td>\n",
              "      <td>19</td>\n",
              "      <td>2672</td>\n",
              "      <td>552.0</td>\n",
              "      <td>1298</td>\n",
              "      <td>478</td>\n",
              "      <td>1.9797</td>\n",
              "      <td>85800</td>\n",
              "      <td>NEAR OCEAN</td>\n",
              "    </tr>\n",
              "    <tr>\n",
              "      <th>1852</th>\n",
              "      <td>-124.23</td>\n",
              "      <td>41.75</td>\n",
              "      <td>11</td>\n",
              "      <td>3159</td>\n",
              "      <td>616.0</td>\n",
              "      <td>1343</td>\n",
              "      <td>479</td>\n",
              "      <td>2.4805</td>\n",
              "      <td>73200</td>\n",
              "      <td>NEAR OCEAN</td>\n",
              "    </tr>\n",
              "    <tr>\n",
              "      <th>1853</th>\n",
              "      <td>-124.21</td>\n",
              "      <td>41.77</td>\n",
              "      <td>17</td>\n",
              "      <td>3461</td>\n",
              "      <td>722.0</td>\n",
              "      <td>1947</td>\n",
              "      <td>647</td>\n",
              "      <td>2.5795</td>\n",
              "      <td>68400</td>\n",
              "      <td>NEAR OCEAN</td>\n",
              "    </tr>\n",
              "    <tr>\n",
              "      <th>1854</th>\n",
              "      <td>-124.19</td>\n",
              "      <td>41.78</td>\n",
              "      <td>15</td>\n",
              "      <td>3140</td>\n",
              "      <td>714.0</td>\n",
              "      <td>1645</td>\n",
              "      <td>640</td>\n",
              "      <td>1.6654</td>\n",
              "      <td>74600</td>\n",
              "      <td>NEAR OCEAN</td>\n",
              "    </tr>\n",
              "    <tr>\n",
              "      <th>...</th>\n",
              "      <td>...</td>\n",
              "      <td>...</td>\n",
              "      <td>...</td>\n",
              "      <td>...</td>\n",
              "      <td>...</td>\n",
              "      <td>...</td>\n",
              "      <td>...</td>\n",
              "      <td>...</td>\n",
              "      <td>...</td>\n",
              "      <td>...</td>\n",
              "    </tr>\n",
              "    <tr>\n",
              "      <th>20380</th>\n",
              "      <td>-118.83</td>\n",
              "      <td>34.14</td>\n",
              "      <td>16</td>\n",
              "      <td>1316</td>\n",
              "      <td>194.0</td>\n",
              "      <td>450</td>\n",
              "      <td>173</td>\n",
              "      <td>10.1597</td>\n",
              "      <td>500001</td>\n",
              "      <td>NEAR OCEAN</td>\n",
              "    </tr>\n",
              "    <tr>\n",
              "      <th>20381</th>\n",
              "      <td>-118.83</td>\n",
              "      <td>34.14</td>\n",
              "      <td>16</td>\n",
              "      <td>1956</td>\n",
              "      <td>312.0</td>\n",
              "      <td>671</td>\n",
              "      <td>319</td>\n",
              "      <td>6.4001</td>\n",
              "      <td>321800</td>\n",
              "      <td>NEAR OCEAN</td>\n",
              "    </tr>\n",
              "    <tr>\n",
              "      <th>20423</th>\n",
              "      <td>-119.00</td>\n",
              "      <td>34.08</td>\n",
              "      <td>17</td>\n",
              "      <td>1822</td>\n",
              "      <td>438.0</td>\n",
              "      <td>578</td>\n",
              "      <td>291</td>\n",
              "      <td>5.4346</td>\n",
              "      <td>428600</td>\n",
              "      <td>NEAR OCEAN</td>\n",
              "    </tr>\n",
              "    <tr>\n",
              "      <th>20424</th>\n",
              "      <td>-118.75</td>\n",
              "      <td>34.18</td>\n",
              "      <td>4</td>\n",
              "      <td>16704</td>\n",
              "      <td>2704.0</td>\n",
              "      <td>6187</td>\n",
              "      <td>2207</td>\n",
              "      <td>6.6122</td>\n",
              "      <td>357600</td>\n",
              "      <td>NEAR OCEAN</td>\n",
              "    </tr>\n",
              "    <tr>\n",
              "      <th>20425</th>\n",
              "      <td>-118.75</td>\n",
              "      <td>34.17</td>\n",
              "      <td>18</td>\n",
              "      <td>6217</td>\n",
              "      <td>858.0</td>\n",
              "      <td>2703</td>\n",
              "      <td>834</td>\n",
              "      <td>6.8075</td>\n",
              "      <td>325900</td>\n",
              "      <td>NEAR OCEAN</td>\n",
              "    </tr>\n",
              "  </tbody>\n",
              "</table>\n",
              "<p>2658 rows × 10 columns</p>\n",
              "</div>"
            ],
            "text/plain": [
              "       longitude  latitude  housing_median_age  total_rooms  total_bedrooms  \\\n",
              "1850     -124.17     41.80                  16         2739           480.0   \n",
              "1851     -124.30     41.80                  19         2672           552.0   \n",
              "1852     -124.23     41.75                  11         3159           616.0   \n",
              "1853     -124.21     41.77                  17         3461           722.0   \n",
              "1854     -124.19     41.78                  15         3140           714.0   \n",
              "...          ...       ...                 ...          ...             ...   \n",
              "20380    -118.83     34.14                  16         1316           194.0   \n",
              "20381    -118.83     34.14                  16         1956           312.0   \n",
              "20423    -119.00     34.08                  17         1822           438.0   \n",
              "20424    -118.75     34.18                   4        16704          2704.0   \n",
              "20425    -118.75     34.17                  18         6217           858.0   \n",
              "\n",
              "       population  households  median_income  median_house_value  \\\n",
              "1850         1259         436         3.7557              109400   \n",
              "1851         1298         478         1.9797               85800   \n",
              "1852         1343         479         2.4805               73200   \n",
              "1853         1947         647         2.5795               68400   \n",
              "1854         1645         640         1.6654               74600   \n",
              "...           ...         ...            ...                 ...   \n",
              "20380         450         173        10.1597              500001   \n",
              "20381         671         319         6.4001              321800   \n",
              "20423         578         291         5.4346              428600   \n",
              "20424        6187        2207         6.6122              357600   \n",
              "20425        2703         834         6.8075              325900   \n",
              "\n",
              "      ocean_proximity  \n",
              "1850       NEAR OCEAN  \n",
              "1851       NEAR OCEAN  \n",
              "1852       NEAR OCEAN  \n",
              "1853       NEAR OCEAN  \n",
              "1854       NEAR OCEAN  \n",
              "...               ...  \n",
              "20380      NEAR OCEAN  \n",
              "20381      NEAR OCEAN  \n",
              "20423      NEAR OCEAN  \n",
              "20424      NEAR OCEAN  \n",
              "20425      NEAR OCEAN  \n",
              "\n",
              "[2658 rows x 10 columns]"
            ]
          },
          "execution_count": 17,
          "metadata": {},
          "output_type": "execute_result"
        }
      ],
      "source": [
        "#ques8: Create a data set for which the ocean_proximity is ‘Near ocean’\n",
        "mask=data['ocean_proximity']=='NEAR OCEAN'\n",
        "near_ocean=data[mask]\n",
        "near_ocean\n",
        "#NEAR OCEAN"
      ]
    },
    {
      "cell_type": "code",
      "execution_count": null,
      "id": "baa536f0",
      "metadata": {
        "id": "baa536f0",
        "outputId": "2f6b2fcd-60b7-4ed9-eb0a-62eba66a4c9a"
      },
      "outputs": [
        {
          "name": "stdout",
          "output_type": "stream",
          "text": [
            "4.005784800601957\n",
            "3.64705\n"
          ]
        }
      ],
      "source": [
        "#ques9: Find the mean and median of the median income for the data set created in question 8.\n",
        "print(near_ocean['median_income'].mean())\n",
        "print(near_ocean['median_income'].median())"
      ]
    },
    {
      "cell_type": "code",
      "execution_count": null,
      "id": "0af1edc0",
      "metadata": {
        "id": "0af1edc0",
        "outputId": "26304ae4-693c-44dc-ec89-9de40f6716b1"
      },
      "outputs": [
        {
          "data": {
            "text/html": [
              "<div>\n",
              "<style scoped>\n",
              "    .dataframe tbody tr th:only-of-type {\n",
              "        vertical-align: middle;\n",
              "    }\n",
              "\n",
              "    .dataframe tbody tr th {\n",
              "        vertical-align: top;\n",
              "    }\n",
              "\n",
              "    .dataframe thead th {\n",
              "        text-align: right;\n",
              "    }\n",
              "</style>\n",
              "<table border=\"1\" class=\"dataframe\">\n",
              "  <thead>\n",
              "    <tr style=\"text-align: right;\">\n",
              "      <th></th>\n",
              "      <th>longitude</th>\n",
              "      <th>latitude</th>\n",
              "      <th>housing_median_age</th>\n",
              "      <th>total_rooms</th>\n",
              "      <th>total_bedrooms</th>\n",
              "      <th>population</th>\n",
              "      <th>households</th>\n",
              "      <th>median_income</th>\n",
              "      <th>median_house_value</th>\n",
              "      <th>ocean_proximity</th>\n",
              "      <th>total_bedroom_size</th>\n",
              "    </tr>\n",
              "  </thead>\n",
              "  <tbody>\n",
              "    <tr>\n",
              "      <th>9308</th>\n",
              "      <td>-122.54</td>\n",
              "      <td>37.98</td>\n",
              "      <td>52</td>\n",
              "      <td>1758</td>\n",
              "      <td>316.0</td>\n",
              "      <td>607</td>\n",
              "      <td>264</td>\n",
              "      <td>5.5083</td>\n",
              "      <td>371900</td>\n",
              "      <td>NEAR BAY</td>\n",
              "      <td>medium</td>\n",
              "    </tr>\n",
              "    <tr>\n",
              "      <th>18327</th>\n",
              "      <td>-122.15</td>\n",
              "      <td>37.46</td>\n",
              "      <td>52</td>\n",
              "      <td>1803</td>\n",
              "      <td>257.0</td>\n",
              "      <td>683</td>\n",
              "      <td>259</td>\n",
              "      <td>10.9508</td>\n",
              "      <td>500001</td>\n",
              "      <td>NEAR BAY</td>\n",
              "      <td>medium</td>\n",
              "    </tr>\n",
              "    <tr>\n",
              "      <th>3091</th>\n",
              "      <td>-118.45</td>\n",
              "      <td>35.62</td>\n",
              "      <td>18</td>\n",
              "      <td>2304</td>\n",
              "      <td>527.0</td>\n",
              "      <td>782</td>\n",
              "      <td>390</td>\n",
              "      <td>1.4141</td>\n",
              "      <td>75800</td>\n",
              "      <td>INLAND</td>\n",
              "      <td>medium</td>\n",
              "    </tr>\n",
              "    <tr>\n",
              "      <th>2418</th>\n",
              "      <td>-119.46</td>\n",
              "      <td>36.60</td>\n",
              "      <td>18</td>\n",
              "      <td>1404</td>\n",
              "      <td>226.0</td>\n",
              "      <td>754</td>\n",
              "      <td>229</td>\n",
              "      <td>3.9844</td>\n",
              "      <td>118100</td>\n",
              "      <td>INLAND</td>\n",
              "      <td>medium</td>\n",
              "    </tr>\n",
              "    <tr>\n",
              "      <th>8234</th>\n",
              "      <td>-118.20</td>\n",
              "      <td>33.77</td>\n",
              "      <td>42</td>\n",
              "      <td>517</td>\n",
              "      <td>233.0</td>\n",
              "      <td>995</td>\n",
              "      <td>212</td>\n",
              "      <td>2.2250</td>\n",
              "      <td>106300</td>\n",
              "      <td>NEAR OCEAN</td>\n",
              "      <td>medium</td>\n",
              "    </tr>\n",
              "  </tbody>\n",
              "</table>\n",
              "</div>"
            ],
            "text/plain": [
              "       longitude  latitude  housing_median_age  total_rooms  total_bedrooms  \\\n",
              "9308     -122.54     37.98                  52         1758           316.0   \n",
              "18327    -122.15     37.46                  52         1803           257.0   \n",
              "3091     -118.45     35.62                  18         2304           527.0   \n",
              "2418     -119.46     36.60                  18         1404           226.0   \n",
              "8234     -118.20     33.77                  42          517           233.0   \n",
              "\n",
              "       population  households  median_income  median_house_value  \\\n",
              "9308          607         264         5.5083              371900   \n",
              "18327         683         259        10.9508              500001   \n",
              "3091          782         390         1.4141               75800   \n",
              "2418          754         229         3.9844              118100   \n",
              "8234          995         212         2.2250              106300   \n",
              "\n",
              "      ocean_proximity total_bedroom_size  \n",
              "9308         NEAR BAY             medium  \n",
              "18327        NEAR BAY             medium  \n",
              "3091           INLAND             medium  \n",
              "2418           INLAND             medium  \n",
              "8234       NEAR OCEAN             medium  "
            ]
          },
          "execution_count": 29,
          "metadata": {},
          "output_type": "execute_result"
        }
      ],
      "source": [
        "#ques 10: Please create a new column named total_bedroom_size. If the total bedrooms is 10 or less, \n",
        "#it should be quoted as small. If the total bedrooms is 11 or more but less than 1000, it should be medium, \n",
        "#otherwise it should be considered large.\n",
        "data['total_bedroom_size']=data['total_bedrooms'].apply( lambda x: 'small' if x<=10 else 'medium' if x<1000 else 'large')\n",
        "data.sample(5)"
      ]
    }
  ],
  "metadata": {
    "kernelspec": {
      "display_name": "Python 3 (ipykernel)",
      "language": "python",
      "name": "python3"
    },
    "language_info": {
      "codemirror_mode": {
        "name": "ipython",
        "version": 3
      },
      "file_extension": ".py",
      "mimetype": "text/x-python",
      "name": "python",
      "nbconvert_exporter": "python",
      "pygments_lexer": "ipython3",
      "version": "3.9.13"
    },
    "colab": {
      "provenance": []
    }
  },
  "nbformat": 4,
  "nbformat_minor": 5
}