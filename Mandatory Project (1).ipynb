{
 "cells": [
  {
   "cell_type": "code",
   "execution_count": 1,
   "id": "5ff9fbbf",
   "metadata": {},
   "outputs": [],
   "source": [
    "###Mandatory Project"
   ]
  },
  {
   "cell_type": "code",
   "execution_count": 1,
   "id": "380375a8",
   "metadata": {},
   "outputs": [
    {
     "name": "stdout",
     "output_type": "stream",
     "text": [
      "common names= Mukesh\n",
      "common names= Ali\n",
      "common names= Jacob\n",
      "common names= Saritha\n"
     ]
    }
   ],
   "source": [
    "#Ques1 #find common names in both lists#\n",
    "list1=['Ramesh','Suresh','Mukesh', 'Ali','Jacob','Saritha']\n",
    "list2= ['Ali', 'Mukesh','Mahesh', 'Jacob', 'Sai', 'Saritha']\n",
    "for i in list1:\n",
    "    for j in list2:\n",
    "        if i==j:\n",
    "            print('common names=',i)\n",
    "    "
   ]
  },
  {
   "cell_type": "code",
   "execution_count": 25,
   "id": "64cfd717",
   "metadata": {},
   "outputs": [
    {
     "name": "stdout",
     "output_type": "stream",
     "text": [
      "['Ramesh', 'Suresh', 'Mohit']\n",
      "{'Ramesh': 25, 'Suresh': 22, 'Mohit': 26}\n"
     ]
    }
   ],
   "source": [
    "#Ques2#While entering data, someone entered a few names as a common string “Ramesh Suresh Mohit”. \n",
    "#Please write a program which separates all the names and convert them into a list. \n",
    "    #Once converted in a list, please write a program which adds their age#\n",
    "str='Ramesh Suresh Mohit'\n",
    "Names=str.split()\n",
    "print(L)\n",
    "Age=[25,22,26]\n",
    "zipped= dict(zip(Names,Age))\n",
    "print(zipped)\n",
    "\n"
   ]
  },
  {
   "cell_type": "code",
   "execution_count": 14,
   "id": "8fe0e585",
   "metadata": {},
   "outputs": [
    {
     "name": "stdout",
     "output_type": "stream",
     "text": [
      "mean marks of python are= 27.0\n"
     ]
    }
   ],
   "source": [
    "#program3#\n",
    "marks_python=[25,26,29,28]\n",
    "len_python=len(marks_python)\n",
    "sum_python=sum(marks_python)\n",
    "mean=sum_python/len_python\n",
    "print('mean marks of python are=',mean)"
   ]
  },
  {
   "cell_type": "code",
   "execution_count": 4,
   "id": "3477c01a",
   "metadata": {},
   "outputs": [
    {
     "name": "stdout",
     "output_type": "stream",
     "text": [
      "mean marks of stats are= 22.0\n"
     ]
    }
   ],
   "source": [
    "marks_stats=[23,21,19,25]\n",
    "len_stats=len(marks_stats)\n",
    "sum_stats=sum(marks_stats)\n",
    "mean=sum_stats/len_stats\n",
    "print('mean marks of stats are=',mean)"
   ]
  },
  {
   "cell_type": "code",
   "execution_count": 6,
   "id": "680809b3",
   "metadata": {},
   "outputs": [
    {
     "name": "stdout",
     "output_type": "stream",
     "text": [
      "mean marks of sql are= 27.25\n"
     ]
    }
   ],
   "source": [
    "marks_sql=[29,27,28,25]\n",
    "len_sql=len(marks_sql)\n",
    "sum_sql=sum(marks_sql)\n",
    "mean=sum_sql/len_sql\n",
    "print('mean marks of sql are=',mean)"
   ]
  },
  {
   "cell_type": "code",
   "execution_count": 1,
   "id": "c8e70ca9",
   "metadata": {},
   "outputs": [
    {
     "name": "stdout",
     "output_type": "stream",
     "text": [
      "cost_of_para is= 70\n",
      "cost_of_azith is= 147\n",
      "cost_of_vita is= 165\n",
      "total_cost is= 382\n",
      "A_ref is= 1618\n"
     ]
    }
   ],
   "source": [
    "#Ques4#\n",
    "a=cost_of_para=2*35\n",
    "b=cost_of_azith=3*49\n",
    "c=cost_of_vita=5*33\n",
    "d=total_cost=a+b+c\n",
    "z=2000\n",
    "print('cost_of_para is=', a)\n",
    "print('cost_of_azith is=',b)\n",
    "print('cost_of_vita is=',c)\n",
    "print('total_cost is=',d)\n",
    "A=A_ref=(z-d)\n",
    "print('A_ref is=', A)\n"
   ]
  },
  {
   "cell_type": "code",
   "execution_count": 1,
   "id": "5e64b0a1",
   "metadata": {},
   "outputs": [
    {
     "name": "stdout",
     "output_type": "stream",
     "text": [
      "Enter string:ravi\n",
      "Number of vowels are:\n",
      "2\n"
     ]
    }
   ],
   "source": [
    "#Ques5#\n",
    "def count_vowels():\n",
    "    string=input(\"Enter string:\")\n",
    "    vowels=0\n",
    "    for i in string:\n",
    "        if(i=='a' or i=='e' or i=='i' or i=='o' or i=='u' or i=='A' or i=='E' or i=='I' or i=='O' or i=='U'):\n",
    "            vowels=vowels+1\n",
    "    print(\"Number of vowels are:\")\n",
    "    print(vowels)\n",
    "count_vowels()"
   ]
  },
  {
   "cell_type": "code",
   "execution_count": 13,
   "id": "3c7dc881",
   "metadata": {},
   "outputs": [
    {
     "name": "stdout",
     "output_type": "stream",
     "text": [
      "enter your name: hari\n",
      "enter your age: 17\n",
      "Return after years 1\n"
     ]
    }
   ],
   "source": [
    "#ques6#\n",
    "name=input('enter your name: ')\n",
    "age=int(input('enter your age: '))\n",
    "y=int(18-age)\n",
    "if age>=18:\n",
    "    print('Congrates! You are eligible to vote')\n",
    "if age<18:\n",
    "    print('Return after years',y)\n",
    "\n",
    "    \n",
    "    "
   ]
  }
 ],
 "metadata": {
  "kernelspec": {
   "display_name": "Python 3 (ipykernel)",
   "language": "python",
   "name": "python3"
  },
  "language_info": {
   "codemirror_mode": {
    "name": "ipython",
    "version": 3
   },
   "file_extension": ".py",
   "mimetype": "text/x-python",
   "name": "python",
   "nbconvert_exporter": "python",
   "pygments_lexer": "ipython3",
   "version": "3.9.13"
  }
 },
 "nbformat": 4,
 "nbformat_minor": 5
}
